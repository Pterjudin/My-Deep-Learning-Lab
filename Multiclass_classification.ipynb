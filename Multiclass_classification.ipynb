{
  "nbformat": 4,
  "nbformat_minor": 0,
  "metadata": {
    "colab": {
      "name": "Multiclass_classification.ipynb",
      "provenance": [],
      "collapsed_sections": [],
      "authorship_tag": "ABX9TyPUA7J8ioSGHIRlWy46mmNR",
      "include_colab_link": true
    },
    "kernelspec": {
      "name": "python3",
      "display_name": "Python 3"
    },
    "language_info": {
      "name": "python"
    }
  },
  "cells": [
    {
      "cell_type": "markdown",
      "metadata": {
        "id": "view-in-github",
        "colab_type": "text"
      },
      "source": [
        "<a href=\"https://colab.research.google.com/github/Pterjudin/My-Deep-Learning-Lab/blob/main/Multiclass_classification.ipynb\" target=\"_parent\"><img src=\"https://colab.research.google.com/assets/colab-badge.svg\" alt=\"Open In Colab\"/></a>"
      ]
    },
    {
      "cell_type": "code",
      "metadata": {
        "colab": {
          "base_uri": "https://localhost:8080/"
        },
        "id": "PBWk244miZla",
        "outputId": "34ce7c80-4ed8-4f25-d96a-e76bae564bfb"
      },
      "source": [
        "from keras.datasets import reuters\n",
        "\n",
        "(train_data, train_labels), (test_data, test_labels) = reuters.load_data(num_words=10000)"
      ],
      "execution_count": 2,
      "outputs": [
        {
          "output_type": "stream",
          "text": [
            "Downloading data from https://storage.googleapis.com/tensorflow/tf-keras-datasets/reuters.npz\n",
            "2113536/2110848 [==============================] - 0s 0us/step\n",
            "2121728/2110848 [==============================] - 0s 0us/step\n"
          ],
          "name": "stdout"
        },
        {
          "output_type": "stream",
          "text": [
            "/usr/local/lib/python3.7/dist-packages/keras/datasets/reuters.py:143: VisibleDeprecationWarning: Creating an ndarray from ragged nested sequences (which is a list-or-tuple of lists-or-tuples-or ndarrays with different lengths or shapes) is deprecated. If you meant to do this, you must specify 'dtype=object' when creating the ndarray\n",
            "  x_train, y_train = np.array(xs[:idx]), np.array(labels[:idx])\n",
            "/usr/local/lib/python3.7/dist-packages/keras/datasets/reuters.py:144: VisibleDeprecationWarning: Creating an ndarray from ragged nested sequences (which is a list-or-tuple of lists-or-tuples-or ndarrays with different lengths or shapes) is deprecated. If you meant to do this, you must specify 'dtype=object' when creating the ndarray\n",
            "  x_test, y_test = np.array(xs[idx:]), np.array(labels[idx:])\n"
          ],
          "name": "stderr"
        }
      ]
    },
    {
      "cell_type": "code",
      "metadata": {
        "id": "F8ouzbRSk2yh"
      },
      "source": [
        "word_index = reuters.get_word_index()\n",
        "reverse_word_index = dict([(value, key) for (key, value) in word_index.items()])\n",
        "decoded_newswire = ' '.join([reverse_word_index.get(i-3, '?') for i in train_data[0]])"
      ],
      "execution_count": 13,
      "outputs": []
    },
    {
      "cell_type": "code",
      "metadata": {
        "id": "KTaj7U4nhjjt"
      },
      "source": [
        "import numpy as np\n",
        "\n",
        "def vectorize_sequences(sequences, dimension=10000):\n",
        "  results = np.zeros((len(sequences), dimension))\n",
        "  for i, sequence in enumerate(sequences):\n",
        "    results[i, sequence] = 1\n",
        "  return results\n",
        "\n",
        "\n",
        "x_train = vectorize_sequences(train_data)\n",
        "x_test = vectorize_sequences(test_data)"
      ],
      "execution_count": 15,
      "outputs": []
    },
    {
      "cell_type": "code",
      "metadata": {
        "colab": {
          "base_uri": "https://localhost:8080/"
        },
        "id": "Oe_SmU1Z3ZYu",
        "outputId": "87b3bd6b-8b49-4f6b-d456-27eb089d2ea3"
      },
      "source": [
        "x_train.shape"
      ],
      "execution_count": 19,
      "outputs": [
        {
          "output_type": "execute_result",
          "data": {
            "text/plain": [
              "(8982, 10000)"
            ]
          },
          "metadata": {
            "tags": []
          },
          "execution_count": 19
        }
      ]
    },
    {
      "cell_type": "code",
      "metadata": {
        "id": "oMyo3UrbieK3"
      },
      "source": [
        "def to_one_hot(labels, dimension=46):\n",
        "  results = np.zeros((len(labels), dimension))\n",
        "  for i, label in enumerate(labels):\n",
        "    results[i, label] = 1.\n",
        "  return results\n",
        "\n",
        "one_hot_train_labels = to_one_hot(train_labels)\n",
        "one_hot_train_labels = to_one_hot(test_labels)"
      ],
      "execution_count": 16,
      "outputs": []
    },
    {
      "cell_type": "code",
      "metadata": {
        "id": "MFpdN1WYjjAT"
      },
      "source": [
        "from keras.utils.np_utils import to_categorical\n",
        "\n",
        "one_hot_train_labels = to_categorical(train_labels)\n",
        "one_hot_test_labels = to_categorical(test_labels)"
      ],
      "execution_count": 18,
      "outputs": []
    },
    {
      "cell_type": "code",
      "metadata": {
        "id": "-HNjRxKY2fjG"
      },
      "source": [
        "from keras import models\n",
        "from keras import layers\n",
        "\n",
        "model = models.Sequential()\n",
        "model.add(layers.Dense(64, activation = 'relu', input_shape = (10000, )))\n",
        "model.add(layers.Dense(64, activation = 'relu'))\n",
        "model.add(layers.Dense(46, activation ='softmax'))\n",
        "\n",
        "\n",
        "model.compile(optimizer='rmsprop', loss='categorical_crossentropy', metrics=['accuracy'])"
      ],
      "execution_count": 28,
      "outputs": []
    },
    {
      "cell_type": "code",
      "metadata": {
        "colab": {
          "base_uri": "https://localhost:8080/"
        },
        "id": "Y4vFlZQO5Ho7",
        "outputId": "66303fea-16c6-441c-f512-853bbc29744c"
      },
      "source": [
        "x_val = x_train[:1000]\n",
        "partial_x_train = x_train[1000:]\n",
        "\n",
        "y_val = one_hot_train_labels[:1000]\n",
        "partial_y_train = one_hot_train_labels[1000:]\n",
        "\n",
        "\n",
        "history = model.fit(partial_x_train, \n",
        "                    partial_y_train, \n",
        "                    epochs=20, \n",
        "                    batch_size=512, \n",
        "                    validation_data=(x_val,y_val))\n"
      ],
      "execution_count": 29,
      "outputs": [
        {
          "output_type": "stream",
          "text": [
            "Epoch 1/20\n",
            "16/16 [==============================] - 8s 94ms/step - loss: 3.1318 - accuracy: 0.3664 - val_loss: 1.6996 - val_accuracy: 0.6260\n",
            "Epoch 2/20\n",
            "16/16 [==============================] - 1s 46ms/step - loss: 1.4747 - accuracy: 0.6827 - val_loss: 1.3294 - val_accuracy: 0.7070\n",
            "Epoch 3/20\n",
            "16/16 [==============================] - 1s 46ms/step - loss: 1.0990 - accuracy: 0.7621 - val_loss: 1.1410 - val_accuracy: 0.7450\n",
            "Epoch 4/20\n",
            "16/16 [==============================] - 1s 45ms/step - loss: 0.8480 - accuracy: 0.8208 - val_loss: 1.0371 - val_accuracy: 0.7640\n",
            "Epoch 5/20\n",
            "16/16 [==============================] - 1s 46ms/step - loss: 0.6674 - accuracy: 0.8580 - val_loss: 0.9698 - val_accuracy: 0.7970\n",
            "Epoch 6/20\n",
            "16/16 [==============================] - 1s 55ms/step - loss: 0.5282 - accuracy: 0.8864 - val_loss: 0.9156 - val_accuracy: 0.8080\n",
            "Epoch 7/20\n",
            "16/16 [==============================] - 1s 58ms/step - loss: 0.4281 - accuracy: 0.9058 - val_loss: 0.9179 - val_accuracy: 0.8040\n",
            "Epoch 8/20\n",
            "16/16 [==============================] - 1s 51ms/step - loss: 0.3461 - accuracy: 0.9277 - val_loss: 0.9216 - val_accuracy: 0.8010\n",
            "Epoch 9/20\n",
            "16/16 [==============================] - 1s 46ms/step - loss: 0.2861 - accuracy: 0.9379 - val_loss: 0.9334 - val_accuracy: 0.8040\n",
            "Epoch 10/20\n",
            "16/16 [==============================] - 1s 46ms/step - loss: 0.2445 - accuracy: 0.9430 - val_loss: 0.9258 - val_accuracy: 0.8100\n",
            "Epoch 11/20\n",
            "16/16 [==============================] - 1s 46ms/step - loss: 0.1862 - accuracy: 0.9561 - val_loss: 0.9182 - val_accuracy: 0.8120\n",
            "Epoch 12/20\n",
            "16/16 [==============================] - 1s 53ms/step - loss: 0.1659 - accuracy: 0.9573 - val_loss: 0.9725 - val_accuracy: 0.8090\n",
            "Epoch 13/20\n",
            "16/16 [==============================] - 1s 53ms/step - loss: 0.1583 - accuracy: 0.9552 - val_loss: 1.0066 - val_accuracy: 0.8040\n",
            "Epoch 14/20\n",
            "16/16 [==============================] - 1s 45ms/step - loss: 0.1349 - accuracy: 0.9606 - val_loss: 0.9765 - val_accuracy: 0.8140\n",
            "Epoch 15/20\n",
            "16/16 [==============================] - 1s 46ms/step - loss: 0.1359 - accuracy: 0.9545 - val_loss: 1.0335 - val_accuracy: 0.8140\n",
            "Epoch 16/20\n",
            "16/16 [==============================] - 1s 47ms/step - loss: 0.1218 - accuracy: 0.9585 - val_loss: 1.0103 - val_accuracy: 0.8060\n",
            "Epoch 17/20\n",
            "16/16 [==============================] - 1s 52ms/step - loss: 0.1134 - accuracy: 0.9595 - val_loss: 1.0355 - val_accuracy: 0.8010\n",
            "Epoch 18/20\n",
            "16/16 [==============================] - 1s 57ms/step - loss: 0.1066 - accuracy: 0.9609 - val_loss: 1.0658 - val_accuracy: 0.7980\n",
            "Epoch 19/20\n",
            "16/16 [==============================] - 1s 55ms/step - loss: 0.1096 - accuracy: 0.9605 - val_loss: 1.0868 - val_accuracy: 0.8000\n",
            "Epoch 20/20\n",
            "16/16 [==============================] - 1s 57ms/step - loss: 0.1006 - accuracy: 0.9621 - val_loss: 1.0544 - val_accuracy: 0.8120\n"
          ],
          "name": "stdout"
        }
      ]
    },
    {
      "cell_type": "code",
      "metadata": {
        "colab": {
          "base_uri": "https://localhost:8080/",
          "height": 295
        },
        "id": "3-6J9cWs6CAQ",
        "outputId": "427691ce-c96b-4c09-adcc-799e78026509"
      },
      "source": [
        "import matplotlib.pyplot as plt\n",
        "\n",
        "loss = history.history['loss']\n",
        "val_loss = history.history['val_loss']\n",
        "\n",
        "epochs = range(1, len(loss) + 1)\n",
        "\n",
        "\n",
        "plt.plot(epochs, loss, 'bo', label='Training loss')\n",
        "plt.plot(epochs, val_loss, 'b', label='Validation loss')\n",
        "plt.xlabel('Epochs')\n",
        "plt.ylabel('Loss')\n",
        "plt.title('Training and validation loss')\n",
        "plt.legend()\n",
        "\n",
        "plt.show()"
      ],
      "execution_count": 30,
      "outputs": [
        {
          "output_type": "display_data",
          "data": {
            "image/png": "[encoded data removed]",
            "text/plain": [
              "<Figure size 432x288 with 1 Axes>"
            ]
          },
          "metadata": {
            "tags": [],
            "needs_background": "light"
          }
        }
      ]
    },
    {
      "cell_type": "code",
      "metadata": {
        "id": "Gjaet25j8OKz",
        "outputId": "ff503725-9996-4d1e-f246-f17c98c121b3",
        "colab": {
          "base_uri": "https://localhost:8080/",
          "height": 312
        }
      },
      "source": [
        "plt.clf()\n",
        "\n",
        "acc = history.history['accuracy']\n",
        "val_acc = history.history['val_accuracy']\n",
        "\n",
        "plt.plot(epochs, acc, 'bo', label='Training acc')\n",
        "plt.plot(epochs, val_acc, 'b', label='Validation acc')\n",
        "plt.xlabel('Epochs')\n",
        "plt.ylabel('Loss')\n",
        "plt.title('Training and validation accuracy')\n",
        "plt.legend()"
      ],
      "execution_count": 33,
      "outputs": [
        {
          "output_type": "execute_result",
          "data": {
            "text/plain": [
              "<matplotlib.legend.Legend at 0x7f4327dc6350>"
            ]
          },
          "metadata": {
            "tags": []
          },
          "execution_count": 33
        },
        {
          "output_type": "display_data",
          "data": {
            "image/png": "[encoded data removed]",
            "text/plain": [
              "<Figure size 432x288 with 1 Axes>"
            ]
          },
          "metadata": {
            "tags": [],
            "needs_background": "light"
          }
        }
      ]
    }
  ]
}